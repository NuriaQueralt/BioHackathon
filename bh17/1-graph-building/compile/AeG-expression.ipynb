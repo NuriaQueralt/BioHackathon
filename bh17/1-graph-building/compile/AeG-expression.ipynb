{
 "cells": [
  {
   "cell_type": "markdown",
   "metadata": {},
   "source": [
    "# Combine gene-anatomy expression resources (Bgee and TISSUES)"
   ]
  },
  {
   "cell_type": "code",
   "execution_count": 1,
   "metadata": {
    "collapsed": true
   },
   "outputs": [],
   "source": [
    "import sys\n",
    "import gzip\n",
    "\n",
    "import pandas\n",
    "\n",
    "# local imports\n",
    "sys.path.insert(0, '../')\n",
    "import utils\n",
    "\n",
    "%matplotlib inline"
   ]
  },
  {
   "cell_type": "markdown",
   "metadata": {},
   "source": [
    "## Read TISSUES"
   ]
  },
  {
   "cell_type": "code",
   "execution_count": 2,
   "metadata": {
    "collapsed": false
   },
   "outputs": [],
   "source": [
    "commit = 'd6b0c99352db27469f2c3399cecb6f9fae2db547'\n",
    "url = utils.rawgit('dhimmel', 'tissues', commit, 'data/merged.tsv.gz')\n",
    "tissues_df = pandas.read_table(url, compression='gzip')\n",
    "tissues_df = tissues_df.fillna(0)"
   ]
  },
  {
   "cell_type": "code",
   "execution_count": 3,
   "metadata": {
    "collapsed": false
   },
   "outputs": [
    {
     "data": {
      "image/png": "[encoded data removed]",
      "text/plain": [
       "<matplotlib.figure.Figure at 0x7f5eb5b44898>"
      ]
     },
     "metadata": {},
     "output_type": "display_data"
    }
   ],
   "source": [
    "# Histogram of integrated scores\n",
    "tissues_df.score_integrated.hist(bins=50);"
   ]
  },
  {
   "cell_type": "code",
   "execution_count": 4,
   "metadata": {
    "collapsed": true
   },
   "outputs": [],
   "source": [
    "cutoff = 2\n",
    "tissues_df = tissues_df[(tissues_df.score_experiment_unbiased >= cutoff) | (tissues_df.score_integrated >= cutoff)]\n",
    "tissues_df['unbiased'] = (tissues_df.score_experiment_unbiased >= cutoff).astype(int)"
   ]
  },
  {
   "cell_type": "code",
   "execution_count": 5,
   "metadata": {
    "collapsed": false
   },
   "outputs": [
    {
     "data": {
      "text/plain": [
       "1    244315\n",
       "0    209679\n",
       "Name: unbiased, dtype: int64"
      ]
     },
     "execution_count": 5,
     "metadata": {},
     "output_type": "execute_result"
    }
   ],
   "source": [
    "tissues_df.unbiased.value_counts()"
   ]
  },
  {
   "cell_type": "code",
   "execution_count": 6,
   "metadata": {
    "collapsed": false
   },
   "outputs": [
    {
     "data": {
      "text/plain": [
       "453994"
      ]
     },
     "execution_count": 6,
     "metadata": {},
     "output_type": "execute_result"
    }
   ],
   "source": [
    "len(tissues_df)"
   ]
  },
  {
   "cell_type": "code",
   "execution_count": 7,
   "metadata": {
    "collapsed": false
   },
   "outputs": [
    {
     "data": {
      "text/html": [
       "<div>\n",
       "<table border=\"1\" class=\"dataframe\">\n",
       "  <thead>\n",
       "    <tr style=\"text-align: right;\">\n",
       "      <th></th>\n",
       "      <th>uberon_id</th>\n",
       "      <th>uberon_name</th>\n",
       "      <th>entrez_gene_id</th>\n",
       "      <th>gene_symbol</th>\n",
       "      <th>score_text</th>\n",
       "      <th>score_knowledge</th>\n",
       "      <th>score_experiment</th>\n",
       "      <th>score_experiment_unbiased</th>\n",
       "      <th>score_integrated</th>\n",
       "      <th>unbiased</th>\n",
       "    </tr>\n",
       "  </thead>\n",
       "  <tbody>\n",
       "    <tr>\n",
       "      <th>26</th>\n",
       "      <td>UBERON:0000002</td>\n",
       "      <td>uterine cervix</td>\n",
       "      <td>60</td>\n",
       "      <td>ACTB</td>\n",
       "      <td>1.6</td>\n",
       "      <td>0</td>\n",
       "      <td>4</td>\n",
       "      <td>4</td>\n",
       "      <td>4.9</td>\n",
       "      <td>1</td>\n",
       "    </tr>\n",
       "    <tr>\n",
       "      <th>60</th>\n",
       "      <td>UBERON:0000002</td>\n",
       "      <td>uterine cervix</td>\n",
       "      <td>142</td>\n",
       "      <td>PARP1</td>\n",
       "      <td>2.2</td>\n",
       "      <td>0</td>\n",
       "      <td>0</td>\n",
       "      <td>0</td>\n",
       "      <td>2.2</td>\n",
       "      <td>0</td>\n",
       "    </tr>\n",
       "    <tr>\n",
       "      <th>84</th>\n",
       "      <td>UBERON:0000002</td>\n",
       "      <td>uterine cervix</td>\n",
       "      <td>207</td>\n",
       "      <td>AKT1</td>\n",
       "      <td>2.1</td>\n",
       "      <td>0</td>\n",
       "      <td>0</td>\n",
       "      <td>0</td>\n",
       "      <td>2.6</td>\n",
       "      <td>0</td>\n",
       "    </tr>\n",
       "    <tr>\n",
       "      <th>90</th>\n",
       "      <td>UBERON:0000002</td>\n",
       "      <td>uterine cervix</td>\n",
       "      <td>218</td>\n",
       "      <td>ALDH3A1</td>\n",
       "      <td>0.6</td>\n",
       "      <td>4</td>\n",
       "      <td>0</td>\n",
       "      <td>0</td>\n",
       "      <td>4.2</td>\n",
       "      <td>0</td>\n",
       "    </tr>\n",
       "    <tr>\n",
       "      <th>96</th>\n",
       "      <td>UBERON:0000002</td>\n",
       "      <td>uterine cervix</td>\n",
       "      <td>226</td>\n",
       "      <td>ALDOA</td>\n",
       "      <td>0.0</td>\n",
       "      <td>4</td>\n",
       "      <td>4</td>\n",
       "      <td>4</td>\n",
       "      <td>4.8</td>\n",
       "      <td>1</td>\n",
       "    </tr>\n",
       "  </tbody>\n",
       "</table>\n",
       "</div>"
      ],
      "text/plain": [
       "         uberon_id     uberon_name  entrez_gene_id gene_symbol  score_text  \\\n",
       "26  UBERON:0000002  uterine cervix              60        ACTB         1.6   \n",
       "60  UBERON:0000002  uterine cervix             142       PARP1         2.2   \n",
       "84  UBERON:0000002  uterine cervix             207        AKT1         2.1   \n",
       "90  UBERON:0000002  uterine cervix             218     ALDH3A1         0.6   \n",
       "96  UBERON:0000002  uterine cervix             226       ALDOA         0.0   \n",
       "\n",
       "    score_knowledge  score_experiment  score_experiment_unbiased  \\\n",
       "26                0                 4                          4   \n",
       "60                0                 0                          0   \n",
       "84                0                 0                          0   \n",
       "90                4                 0                          0   \n",
       "96                4                 4                          4   \n",
       "\n",
       "    score_integrated  unbiased  \n",
       "26               4.9         1  \n",
       "60               2.2         0  \n",
       "84               2.6         0  \n",
       "90               4.2         0  \n",
       "96               4.8         1  "
      ]
     },
     "execution_count": 7,
     "metadata": {},
     "output_type": "execute_result"
    }
   ],
   "source": [
    "tissues_df.head()"
   ]
  },
  {
   "cell_type": "code",
   "execution_count": 8,
   "metadata": {
    "collapsed": false
   },
   "outputs": [
    {
     "data": {
      "text/html": [
       "<div>\n",
       "<table border=\"1\" class=\"dataframe\">\n",
       "  <thead>\n",
       "    <tr style=\"text-align: right;\">\n",
       "      <th></th>\n",
       "      <th>uberon_id</th>\n",
       "      <th>entrez_gene_id</th>\n",
       "      <th>unbiased</th>\n",
       "      <th>source</th>\n",
       "    </tr>\n",
       "  </thead>\n",
       "  <tbody>\n",
       "    <tr>\n",
       "      <th>26</th>\n",
       "      <td>UBERON:0000002</td>\n",
       "      <td>60</td>\n",
       "      <td>1</td>\n",
       "      <td>TISSUES</td>\n",
       "    </tr>\n",
       "    <tr>\n",
       "      <th>60</th>\n",
       "      <td>UBERON:0000002</td>\n",
       "      <td>142</td>\n",
       "      <td>0</td>\n",
       "      <td>TISSUES</td>\n",
       "    </tr>\n",
       "    <tr>\n",
       "      <th>84</th>\n",
       "      <td>UBERON:0000002</td>\n",
       "      <td>207</td>\n",
       "      <td>0</td>\n",
       "      <td>TISSUES</td>\n",
       "    </tr>\n",
       "    <tr>\n",
       "      <th>90</th>\n",
       "      <td>UBERON:0000002</td>\n",
       "      <td>218</td>\n",
       "      <td>0</td>\n",
       "      <td>TISSUES</td>\n",
       "    </tr>\n",
       "    <tr>\n",
       "      <th>96</th>\n",
       "      <td>UBERON:0000002</td>\n",
       "      <td>226</td>\n",
       "      <td>1</td>\n",
       "      <td>TISSUES</td>\n",
       "    </tr>\n",
       "  </tbody>\n",
       "</table>\n",
       "</div>"
      ],
      "text/plain": [
       "         uberon_id  entrez_gene_id  unbiased   source\n",
       "26  UBERON:0000002              60         1  TISSUES\n",
       "60  UBERON:0000002             142         0  TISSUES\n",
       "84  UBERON:0000002             207         0  TISSUES\n",
       "90  UBERON:0000002             218         0  TISSUES\n",
       "96  UBERON:0000002             226         1  TISSUES"
      ]
     },
     "execution_count": 8,
     "metadata": {},
     "output_type": "execute_result"
    }
   ],
   "source": [
    "tissues_df = tissues_df[['uberon_id', 'entrez_gene_id', 'unbiased']]\n",
    "tissues_df['source'] = 'TISSUES'\n",
    "tissues_df.head()"
   ]
  },
  {
   "cell_type": "markdown",
   "metadata": {},
   "source": [
    "## Read Bgee"
   ]
  },
  {
   "cell_type": "code",
   "execution_count": 9,
   "metadata": {
    "collapsed": false
   },
   "outputs": [
    {
     "data": {
      "text/html": [
       "<div>\n",
       "<table border=\"1\" class=\"dataframe\">\n",
       "  <thead>\n",
       "    <tr style=\"text-align: right;\">\n",
       "      <th></th>\n",
       "      <th>entrez_gene_id</th>\n",
       "      <th>CL:0000015</th>\n",
       "      <th>CL:0000019</th>\n",
       "      <th>CL:0000023</th>\n",
       "      <th>CL:0000115</th>\n",
       "      <th>CL:0000169</th>\n",
       "      <th>CL:0000738</th>\n",
       "      <th>CL:0000842</th>\n",
       "      <th>CL:0002092</th>\n",
       "      <th>CL:0002328</th>\n",
       "      <th>...</th>\n",
       "      <th>UBERON:0008188</th>\n",
       "      <th>UBERON:0009834</th>\n",
       "      <th>UBERON:0009835</th>\n",
       "      <th>UBERON:0010414</th>\n",
       "      <th>UBERON:0011876</th>\n",
       "      <th>UBERON:0013540</th>\n",
       "      <th>UBERON:0013541</th>\n",
       "      <th>UBERON:0013554</th>\n",
       "      <th>UBERON:0014892</th>\n",
       "      <th>UBERON:0016525</th>\n",
       "    </tr>\n",
       "  </thead>\n",
       "  <tbody>\n",
       "    <tr>\n",
       "      <th>0</th>\n",
       "      <td>1</td>\n",
       "      <td>0</td>\n",
       "      <td>0</td>\n",
       "      <td>0</td>\n",
       "      <td>0</td>\n",
       "      <td>0</td>\n",
       "      <td>0</td>\n",
       "      <td>0</td>\n",
       "      <td>0</td>\n",
       "      <td>0</td>\n",
       "      <td>...</td>\n",
       "      <td>0</td>\n",
       "      <td>0</td>\n",
       "      <td>0</td>\n",
       "      <td>0</td>\n",
       "      <td>0</td>\n",
       "      <td>0</td>\n",
       "      <td>0</td>\n",
       "      <td>0</td>\n",
       "      <td>0</td>\n",
       "      <td>0</td>\n",
       "    </tr>\n",
       "    <tr>\n",
       "      <th>1</th>\n",
       "      <td>2</td>\n",
       "      <td>1</td>\n",
       "      <td>0</td>\n",
       "      <td>0</td>\n",
       "      <td>1</td>\n",
       "      <td>0</td>\n",
       "      <td>1</td>\n",
       "      <td>0</td>\n",
       "      <td>1</td>\n",
       "      <td>1</td>\n",
       "      <td>...</td>\n",
       "      <td>1</td>\n",
       "      <td>1</td>\n",
       "      <td>1</td>\n",
       "      <td>1</td>\n",
       "      <td>1</td>\n",
       "      <td>1</td>\n",
       "      <td>0</td>\n",
       "      <td>1</td>\n",
       "      <td>1</td>\n",
       "      <td>0</td>\n",
       "    </tr>\n",
       "  </tbody>\n",
       "</table>\n",
       "<p>2 rows × 189 columns</p>\n",
       "</div>"
      ],
      "text/plain": [
       "   entrez_gene_id  CL:0000015  CL:0000019  CL:0000023  CL:0000115  CL:0000169  \\\n",
       "0               1           0           0           0           0           0   \n",
       "1               2           1           0           0           1           0   \n",
       "\n",
       "   CL:0000738  CL:0000842  CL:0002092  CL:0002328       ...        \\\n",
       "0           0           0           0           0       ...         \n",
       "1           1           0           1           1       ...         \n",
       "\n",
       "   UBERON:0008188  UBERON:0009834  UBERON:0009835  UBERON:0010414  \\\n",
       "0               0               0               0               0   \n",
       "1               1               1               1               1   \n",
       "\n",
       "   UBERON:0011876  UBERON:0013540  UBERON:0013541  UBERON:0013554  \\\n",
       "0               0               0               0               0   \n",
       "1               1               1               0               1   \n",
       "\n",
       "   UBERON:0014892  UBERON:0016525  \n",
       "0               0               0  \n",
       "1               1               0  \n",
       "\n",
       "[2 rows x 189 columns]"
      ]
     },
     "execution_count": 9,
     "metadata": {},
     "output_type": "execute_result"
    }
   ],
   "source": [
    "commit = '08ba54e83ee8e28dec22b4351d29e23f1d034d30'\n",
    "url = utils.rawgit('dhimmel', 'bgee', commit, 'data/present-in-adult.tsv.gz')\n",
    "bgee_df = pandas.read_table(url, compression='gzip')\n",
    "bgee_df.head(2)"
   ]
  },
  {
   "cell_type": "code",
   "execution_count": 10,
   "metadata": {
    "collapsed": false
   },
   "outputs": [
    {
     "data": {
      "text/html": [
       "<div>\n",
       "<table border=\"1\" class=\"dataframe\">\n",
       "  <thead>\n",
       "    <tr style=\"text-align: right;\">\n",
       "      <th></th>\n",
       "      <th>uberon_id</th>\n",
       "      <th>entrez_gene_id</th>\n",
       "      <th>unbiased</th>\n",
       "      <th>source</th>\n",
       "    </tr>\n",
       "  </thead>\n",
       "  <tbody>\n",
       "    <tr>\n",
       "      <th>1</th>\n",
       "      <td>CL:0000015</td>\n",
       "      <td>2</td>\n",
       "      <td>1</td>\n",
       "      <td>Bgee</td>\n",
       "    </tr>\n",
       "    <tr>\n",
       "      <th>8</th>\n",
       "      <td>CL:0000015</td>\n",
       "      <td>16</td>\n",
       "      <td>1</td>\n",
       "      <td>Bgee</td>\n",
       "    </tr>\n",
       "    <tr>\n",
       "      <th>14</th>\n",
       "      <td>CL:0000015</td>\n",
       "      <td>23</td>\n",
       "      <td>1</td>\n",
       "      <td>Bgee</td>\n",
       "    </tr>\n",
       "    <tr>\n",
       "      <th>27</th>\n",
       "      <td>CL:0000015</td>\n",
       "      <td>37</td>\n",
       "      <td>1</td>\n",
       "      <td>Bgee</td>\n",
       "    </tr>\n",
       "    <tr>\n",
       "      <th>28</th>\n",
       "      <td>CL:0000015</td>\n",
       "      <td>38</td>\n",
       "      <td>1</td>\n",
       "      <td>Bgee</td>\n",
       "    </tr>\n",
       "  </tbody>\n",
       "</table>\n",
       "</div>"
      ],
      "text/plain": [
       "     uberon_id  entrez_gene_id  unbiased source\n",
       "1   CL:0000015               2         1   Bgee\n",
       "8   CL:0000015              16         1   Bgee\n",
       "14  CL:0000015              23         1   Bgee\n",
       "27  CL:0000015              37         1   Bgee\n",
       "28  CL:0000015              38         1   Bgee"
      ]
     },
     "execution_count": 10,
     "metadata": {},
     "output_type": "execute_result"
    }
   ],
   "source": [
    "bgee_df = pandas.melt(bgee_df, id_vars='entrez_gene_id', var_name='uberon_id', value_name='present')\n",
    "bgee_df = bgee_df.query('present == 1')\n",
    "bgee_df['unbiased'] = 1\n",
    "bgee_df = bgee_df.rename(columns={'GeneID': 'entrez_gene_id'})\n",
    "bgee_df = bgee_df[['uberon_id', 'entrez_gene_id', 'unbiased']]\n",
    "bgee_df['source'] = 'Bgee'\n",
    "bgee_df.head()"
   ]
  },
  {
   "cell_type": "code",
   "execution_count": 11,
   "metadata": {
    "collapsed": false
   },
   "outputs": [
    {
     "data": {
      "text/plain": [
       "1150688"
      ]
     },
     "execution_count": 11,
     "metadata": {},
     "output_type": "execute_result"
    }
   ],
   "source": [
    "len(bgee_df)"
   ]
  },
  {
   "cell_type": "markdown",
   "metadata": {},
   "source": [
    "## Concatenate Bgee and TISSUES"
   ]
  },
  {
   "cell_type": "code",
   "execution_count": 12,
   "metadata": {
    "collapsed": false
   },
   "outputs": [],
   "source": [
    "def condense(df):\n",
    "    \"\"\"Consolidate relationships into a unique anatomy-gene observations.\"\"\"\n",
    "    row = pandas.Series()\n",
    "    sources = set(df['source'])\n",
    "    row['sources'] = '|'.join(sorted(sources))\n",
    "    row['unbiased'] = df.unbiased.max()\n",
    "    if sources == {'TISSUES'}:\n",
    "        row['license'] = 'CC BY 4.0'\n",
    "    else:\n",
    "        row['license'] = None\n",
    "    return row\n",
    "\n",
    "concat_df = pandas.concat([tissues_df, bgee_df])\n",
    "concat_df = concat_df.groupby(['uberon_id', 'entrez_gene_id']).apply(condense).reset_index()"
   ]
  },
  {
   "cell_type": "code",
   "execution_count": 13,
   "metadata": {
    "collapsed": false
   },
   "outputs": [
    {
     "data": {
      "text/plain": [
       "1    1353158\n",
       "0     178467\n",
       "Name: unbiased, dtype: int64"
      ]
     },
     "execution_count": 13,
     "metadata": {},
     "output_type": "execute_result"
    }
   ],
   "source": [
    "concat_df.unbiased.value_counts()"
   ]
  },
  {
   "cell_type": "code",
   "execution_count": 14,
   "metadata": {
    "collapsed": true
   },
   "outputs": [],
   "source": [
    "with gzip.open('AeG-expression.tsv.gz', 'wt') as write_file:\n",
    "    concat_df.to_csv(write_file, sep='\\t', index=False)"
   ]
  }
 ],
 "metadata": {
  "kernelspec": {
   "display_name": "Python 3",
   "language": "python",
   "name": "python3"
  },
  "language_info": {
   "codemirror_mode": {
    "name": "ipython",
    "version": 3
   },
   "file_extension": ".py",
   "mimetype": "text/x-python",
   "name": "python",
   "nbconvert_exporter": "python",
   "pygments_lexer": "ipython3",
   "version": "3.5.1"
  }
 },
 "nbformat": 4,
 "nbformat_minor": 0
}
